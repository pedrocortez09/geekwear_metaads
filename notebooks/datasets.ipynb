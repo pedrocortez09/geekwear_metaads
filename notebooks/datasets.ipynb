{
 "cells": [
  {
   "cell_type": "markdown",
   "id": "27f247e6",
   "metadata": {},
   "source": [
    "# Imports"
   ]
  },
  {
   "cell_type": "code",
   "execution_count": 1,
   "id": "ff3592e9",
   "metadata": {},
   "outputs": [],
   "source": [
    "import pandas as pd\n",
    "import numpy as np\n",
    "import random\n",
    "from faker import Faker"
   ]
  },
  {
   "cell_type": "markdown",
   "id": "31d73516",
   "metadata": {},
   "source": [
    "# Dados Ficticios"
   ]
  },
  {
   "cell_type": "markdown",
   "id": "f264091f",
   "metadata": {},
   "source": [
    "## 1. Meta Ads"
   ]
  },
  {
   "cell_type": "code",
   "execution_count": 2,
   "id": "e5dc30ac",
   "metadata": {},
   "outputs": [],
   "source": [
    "fake = Faker('pt_BR')\n",
    "random.seed(42)\n",
    "np.random.seed(42)\n",
    "\n",
    "# Listas fictícias\n",
    "campaign_names = ['Camisetas Filmes', 'Camisetas Series', 'Blusas Inverno', 'Acessorios']\n",
    "ad_set_names = ['Homens 18-24', 'Mulheres 18-24', 'Homens 24-30', 'Mulheres 24-30']\n",
    "ad_names = ['Imagem 1', 'Video 1', 'Carrossel 1', 'Imagem 2', 'Video 2', 'Imagem 3', 'Video 3', 'Carrossel 2']\n",
    "\n",
    "# Função para gerar dados\n",
    "def generate_meta_ads_data(n=100):\n",
    "\n",
    "    meta_data = []\n",
    "\n",
    "    for _ in range(n):\n",
    "        campaign = np.random.choice(campaign_names, p=[0.4, 0.3, 0.2, 0.1] )\n",
    "        ad_set = np.random.choice(ad_set_names, p=[0.4, 0.3, 0.15, 0.15])\n",
    "        ad = random.choice(ad_names)\n",
    "        impressions = random.randint(1000, 20000)\n",
    "        clicks = random.randint(50, impressions // 10)\n",
    "        spend = round(random.uniform(50, 1500), 2)\n",
    "        ctr = round(clicks / impressions * 100, 2)\n",
    "        cpc = round(spend / clicks, 2)\n",
    "        conversions = random.randint(0, clicks)\n",
    "        cpa = round(spend / conversions, 2) if conversions > 0 else 0\n",
    "        purchase_value = round(random.uniform(0.5, 2.5) * conversions * 50, 2)\n",
    "        roas = round(purchase_value / spend, 2) if spend > 0 else 0\n",
    "\n",
    "        meta_data.append({\n",
    "            'campanha': campaign,\n",
    "            'conjunto_anuncio': ad_set,\n",
    "            'anuncio': ad,\n",
    "            'impressoes': impressions,\n",
    "            'cliques': clicks,\n",
    "            'gasto_total': spend,\n",
    "            'ctr (%)': ctr,\n",
    "            'cpc (R$)': cpc,\n",
    "            'conversões': conversions,\n",
    "            'cpa (R$)': cpa,\n",
    "            'Receita': purchase_value,\n",
    "            'roas': roas,\n",
    "            'data': fake.date_between(start_date='-30d', end_date='today')\n",
    "        })\n",
    "\n",
    "    return pd.DataFrame(meta_data)\n",
    "\n"
   ]
  },
  {
   "cell_type": "code",
   "execution_count": 3,
   "id": "83df3229",
   "metadata": {},
   "outputs": [],
   "source": [
    "# meta_df já vira um DataFrame direto:\n",
    "meta_df = generate_meta_ads_data(n=1000)\n",
    "meta_df['data'] = pd.to_datetime(meta_df['data'])\n",
    "meta_df['dia_da_semana'] = meta_df['data'].dt.day_name(locale='pt_BR')"
   ]
  },
  {
   "cell_type": "markdown",
   "id": "54e63766",
   "metadata": {},
   "source": [
    "## 2. CRM Leads"
   ]
  },
  {
   "cell_type": "code",
   "execution_count": 4,
   "id": "73235562",
   "metadata": {},
   "outputs": [],
   "source": [
    "# Configuração\n",
    "fake = Faker('pt_BR')\n",
    "random.seed(42)\n",
    "np.random.seed(42)\n",
    "\n",
    "# Simular ad_ids e campanhas\n",
    "ad_ids = ['Imagem 1', 'Video 1', 'Carrossel 1', 'Imagem 2', 'Video 2', 'Imagem 3', 'Video 3', 'Carrossel 2']\n",
    "campaign_names = ['Camisetas Filmes', 'Camisetas Series', 'Blusas Inverno', 'Acessorios']\n",
    "ad_id_to_campaign = {ad_id: random.choice(campaign_names) for ad_id in ad_ids}\n",
    "\n",
    "# Etapas do funil e canais\n",
    "funnel_stages = [\"Visita\", \"Carrinho\", \"Checkout\", \"Comprou\"]\n",
    "channel_name = [\"Instagram\", \"Facebook\", \"Google\", \"Tráfego Direto\", \"Email\"]\n",
    "\n",
    "def generate_crm_data(n=100):\n",
    "    crm_data = []\n",
    "\n",
    "    for i in range(n):\n",
    "        lead_id = f\"lead_{i+1}\"\n",
    "        nome = fake.name()\n",
    "        nome_email = nome.lower().replace(' ', '.').replace('á','a').replace('ã','a').replace('â','a')\\\n",
    "                    .replace('é','e').replace('ê','e').replace('í','i').replace('ó','o')\\\n",
    "                    .replace('ô','o').replace('õ','o').replace('ú','u').replace('ç','c')\n",
    "        email = f\"{nome_email}@email.com\"\n",
    "        telefone = fake.phone_number()\n",
    "        data_captura = fake.date_between(start_date='-60d', end_date='today')\n",
    "        \n",
    "        ad_clicked = random.choice(ad_ids)\n",
    "        campanha_origem = ad_id_to_campaign[ad_clicked]\n",
    "        #campanha_origem = np.random.choice(campaign_names, p=[0.4, 0.3, 0.2, 0.1])\n",
    "        canal_origem = np.random.choice(channel_name, p=[0.3, 0.25, 0.25, 0.15, 0.05])\n",
    "\n",
    "        # Sorteia a etapa do funil\n",
    "        etapa = np.random.choice(funnel_stages, p=[0.4, 0.3, 0.2, 0.1])\n",
    "        \n",
    "        # Define status baseado na etapa\n",
    "        if etapa == \"Comprou\":\n",
    "            status = np.random.choice([\"Ganhou\", \"Em negociação\"], p=[0.85, 0.15])\n",
    "        elif etapa in [\"Carrinho\", \"Checkout\"]:\n",
    "            status = np.random.choice([\"Em negociação\", \"Perdido\"], p=[0.6, 0.4])\n",
    "        else:  # Visita\n",
    "            status = np.random.choice([\"Novo\", \"Perdido\"], p=[0.7, 0.3])\n",
    "        \n",
    "        # Ajusta a pontuação baseado na etapa (leads que compraram ou estão em checkout têm nota maior)\n",
    "        if etapa == \"Comprou\":\n",
    "            pontuacao = random.randint(80, 100)\n",
    "        elif etapa == \"Checkout\":\n",
    "            pontuacao = random.randint(60, 90)\n",
    "        elif etapa == \"Carrinho\":\n",
    "            pontuacao = random.randint(40, 80)\n",
    "        else:  # Visita\n",
    "            pontuacao = random.randint(10, 60)\n",
    "\n",
    "        ultima_interacao = data_captura + pd.Timedelta(days=random.randint(0, 10))\n",
    "\n",
    "        crm_data.append({\n",
    "            \"lead_id\": lead_id,\n",
    "            \"nome\": nome,\n",
    "            \"email\": email,\n",
    "            \"telefone\": telefone,\n",
    "            \"data_captura\": str(data_captura),\n",
    "            \"campanha_origem\": campanha_origem,\n",
    "            \"ad_clicked\": ad_clicked,\n",
    "            \"canal_origem\": canal_origem,\n",
    "            \"etapa_funil\": etapa,\n",
    "            \"ultima_interacao\": str(ultima_interacao),\n",
    "            \"status\": status,\n",
    "            \"pontuacao\": pontuacao\n",
    "        })\n",
    "\n",
    "    return pd.DataFrame(crm_data)"
   ]
  },
  {
   "cell_type": "code",
   "execution_count": 5,
   "id": "bc7d8d85",
   "metadata": {},
   "outputs": [],
   "source": [
    "# meta_df já vira um DataFrame direto:\n",
    "crm_df = generate_crm_data(n=300)"
   ]
  },
  {
   "cell_type": "markdown",
   "id": "3846926d",
   "metadata": {},
   "source": [
    "## 3. Vendas Site"
   ]
  },
  {
   "cell_type": "code",
   "execution_count": 6,
   "id": "1298b9b9",
   "metadata": {},
   "outputs": [],
   "source": [
    "# Configuração\n",
    "fake = Faker('pt_BR')\n",
    "random.seed(42)\n",
    "np.random.seed(42)\n",
    "\n",
    "# Relação entre campanha e produto\n",
    "campanha_produto_relacao = {\n",
    "    'Camisetas Filmes': ['Camiseta'],\n",
    "    'Camisetas Series': ['Camiseta'],\n",
    "    'Blusas Inverno': ['Blusa'],\n",
    "    'Acessorios': ['Bolsa', 'Cinto', 'Óculos'],\n",
    "    None: ['Camiseta', 'Blusa', 'Boné', 'Bolsa', 'Cinto', 'Óculos']}\n",
    "\n",
    "def escolher_produto(campanha):\n",
    "    produtos_possiveis = campanha_produto_relacao.get(campanha, campanha_produto_relacao[None])\n",
    "    return np.random.choice(produtos_possiveis)\n",
    "\n",
    "# Configuração para vendas\n",
    "def generate_sales_data(crm_df, n=100):\n",
    "        fake = Faker('pt_BR')\n",
    "        random.seed(42)\n",
    "        np.random.seed(42)\n",
    "\n",
    "        meios_pagamento = ['Cartão', 'Pix', 'Boleto']\n",
    "        status_pagamentos = ['Aprovado', 'Cancelado', 'Pendente']\n",
    "        canais_origem = ['Instagram', 'Facebook', 'Google', 'Tráfego Direto', 'Email']\n",
    "        produtos = ['Camiseta', 'Blusa', 'Boné', 'Bolsa', 'Cinto', 'Óculos']\n",
    "        campaign_names = list(campanha_produto_relacao.keys())\n",
    "\n",
    "        # Pegar apenas compradores\n",
    "        compradores_df = crm_df[crm_df['etapa_funil'] == 'Comprou'].reset_index(drop=True)\n",
    "\n",
    "        vendas_data = []\n",
    "\n",
    "        # Define quem fará múltiplas compras (10% dos compradores)\n",
    "        compradores_multiplas = compradores_df.sample(frac=0.1, random_state=42)\n",
    "\n",
    "        # Garantir pelo menos uma venda para cada comprador\n",
    "        for idx, row in compradores_df.iterrows():\n",
    "\n",
    "                # Define o número de compras para esse lead\n",
    "                num_compras = 2 if row['lead_id'] in compradores_multiplas['lead_id'].values else 1\n",
    "\n",
    "                for _ in range(num_compras):\n",
    "                        sale_id = fake.uuid4()\n",
    "                        # Garante que a venda ocorra depois da data de captura\n",
    "                        min_date = pd.to_datetime(row['data_captura']) + pd.Timedelta(days=1)\n",
    "                        max_date = pd.to_datetime('today')\n",
    "                        data_venda = fake.date_between(start_date=min_date, end_date=max_date)\n",
    "                        \n",
    "                        campanha = row['campanha_origem'] if row['campanha_origem'] in campanha_produto_relacao else None\n",
    "                        produto = escolher_produto(campanha)  \n",
    "\n",
    "                        # produto = np.random.choice(produtos, p=[0.5, 0.25, 0.1, 0.075, 0.025, 0.05])\n",
    "                        valor_total = round(random.uniform(50, 500), 2)\n",
    "                        quantidade = random.randint(1, 5)\n",
    "                        meio_pagamento = np.random.choice(meios_pagamento, p=[0.7, 0.25, 0.05])\n",
    "                        campanha_origem = np.random.choice(campaign_names, p=[0.45, 0.2, 0.15, 0.05, 0.15])\n",
    "                        canal_origem =  row['canal_origem']\n",
    "\n",
    "                        vendas_data.append({\n",
    "                        \"sale_id\": sale_id,\n",
    "                        \"lead_id\": row['lead_id'],\n",
    "                        \"nome_cliente\": row['nome'],\n",
    "                        \"email_cliente\": row['email'],\n",
    "                        \"data_venda\": str(data_venda),\n",
    "                        \"produto\": produto,\n",
    "                        \"valor_total\": valor_total,\n",
    "                        \"quantidade\": quantidade,\n",
    "                        \"meio_pagamento\": meio_pagamento,\n",
    "                        \"status_pagamento\": 'Aprovado',\n",
    "                        \"campanha_origem\": campanha,\n",
    "                        \"utm_source\": f\"source_{random.randint(1, 10)}\",\n",
    "                        \"utm_campaign\": f\"campaign_{random.randint(1, 5)}\",\n",
    "                        \"canal_origem\": canal_origem\n",
    "                        })\n",
    "\n",
    "\n",
    "\n",
    "# Gerar vendas aleatórias adicionais\n",
    "        while len(vendas_data) < n:\n",
    "                sale_id = fake.uuid4()\n",
    "                data_venda = fake.date_between(start_date='-240d', end_date='today')\n",
    "                campanha = np.random.choice(campaign_names)\n",
    "                produto = escolher_produto(campanha)\n",
    "\n",
    "                valor_total = round(random.uniform(50, 500), 2)\n",
    "                quantidade = random.randint(1, 5)\n",
    "                meio_pagamento = np.random.choice(meios_pagamento, p=[0.7, 0.25, 0.05])\n",
    "                status_pagamento = np.random.choice(status_pagamentos, p=[0.65, 0.1, 0.25])\n",
    "                canal_origem = np.random.choice(canais_origem, p=[0.3, 0.25, 0.25, 0.15, 0.05])\n",
    "\n",
    "                # Se for aprovado, tenta usar um comprador real\n",
    "                if status_pagamento == \"Aprovado\" and not compradores_df.empty:\n",
    "                        comprador = compradores_df.sample(1).iloc[0]\n",
    "                        nome_cliente = comprador['nome']\n",
    "                        email_cliente = comprador['email']\n",
    "                        lead_id = comprador['lead_id']\n",
    "                        canal_origem = comprador['canal_origem']  # canal também vem do CRM\n",
    "                else:\n",
    "                        nome_cliente = fake.name()\n",
    "                        nome_email = nome_cliente.lower().replace(' ', '.').replace('á','a').replace('ã','a').replace('â','a')\\\n",
    "                                                        .replace('é','e').replace('ê','e').replace('í','i').replace('ó','o')\\\n",
    "                                                        .replace('ô','o').replace('õ','o').replace('ú','u').replace('ç','c')\n",
    "                        email_cliente = f\"{nome_email}@email.com\"\n",
    "                        lead_id = None\n",
    "                        canal_origem = np.random.choice(canais_origem, p=[0.3, 0.25, 0.25, 0.15, 0.05])\n",
    "\n",
    "                vendas_data.append({\n",
    "                \"sale_id\": sale_id,\n",
    "                \"lead_id\": lead_id,\n",
    "                \"nome_cliente\": nome_cliente,\n",
    "                \"email_cliente\": email_cliente,\n",
    "                \"data_venda\": str(data_venda),\n",
    "                \"produto\": produto,\n",
    "                \"valor_total\": valor_total,\n",
    "                \"quantidade\": quantidade,\n",
    "                \"meio_pagamento\": meio_pagamento,\n",
    "                \"status_pagamento\": status_pagamento,\n",
    "                \"campanha_origem\": campanha,\n",
    "                \"utm_source\": f\"source_{random.randint(1, 10)}\",\n",
    "                \"utm_campaign\": f\"campaign_{random.randint(1, 5)}\",\n",
    "                \"canal_origem\": canal_origem\n",
    "                })\n",
    "\n",
    "        return pd.DataFrame(vendas_data)\n"
   ]
  },
  {
   "cell_type": "code",
   "execution_count": 7,
   "id": "7d433613",
   "metadata": {},
   "outputs": [],
   "source": [
    "vendas_df = generate_sales_data(crm_df, n=50)"
   ]
  },
  {
   "cell_type": "markdown",
   "id": "f58d880e",
   "metadata": {},
   "source": [
    "# Descrição dos Dados"
   ]
  },
  {
   "cell_type": "markdown",
   "id": "ea64321e",
   "metadata": {},
   "source": [
    "## 1. Data Shape"
   ]
  },
  {
   "cell_type": "code",
   "execution_count": 115,
   "id": "4526f856",
   "metadata": {},
   "outputs": [
    {
     "name": "stdout",
     "output_type": "stream",
     "text": [
      "Numero de Linhas De cada Dataset:\n",
      "META ADS: 1000\n",
      "CRM LEADS: 300\n",
      "VENDAS LOJA: 50\n"
     ]
    }
   ],
   "source": [
    "print(f'Numero de Linhas De cada Dataset:')\n",
    "print(f'META ADS: {meta_df.shape[0]}')\n",
    "print(f'CRM LEADS: {crm_df.shape[0]}')\n",
    "print(f'VENDAS LOJA: {vendas_df.shape[0]}')"
   ]
  },
  {
   "cell_type": "markdown",
   "id": "5af8a462",
   "metadata": {},
   "source": [
    "## 2. Data Types"
   ]
  },
  {
   "cell_type": "code",
   "execution_count": 126,
   "id": "63df2823",
   "metadata": {},
   "outputs": [
    {
     "name": "stdout",
     "output_type": "stream",
     "text": [
      "campanha                    object\n",
      "conjunto_anuncio            object\n",
      "anuncio                     object\n",
      "impressoes                   int64\n",
      "cliques                      int64\n",
      "gasto_total                float64\n",
      "ctr (%)                    float64\n",
      "cpc (R$)                   float64\n",
      "conversões                   int64\n",
      "cpa (R$)                   float64\n",
      "Receita                    float64\n",
      "roas                       float64\n",
      "data                datetime64[ns]\n",
      "dia_da_semana               object\n",
      "dtype: object\n"
     ]
    }
   ],
   "source": [
    "print(meta_df.dtypes)"
   ]
  },
  {
   "cell_type": "code",
   "execution_count": 128,
   "id": "2e927e12",
   "metadata": {},
   "outputs": [
    {
     "name": "stdout",
     "output_type": "stream",
     "text": [
      "lead_id                     object\n",
      "nome                        object\n",
      "email                       object\n",
      "telefone                    object\n",
      "data_captura                object\n",
      "campanha_origem             object\n",
      "ad_clicked                  object\n",
      "canal_origem                object\n",
      "etapa_funil                 object\n",
      "ultima_interacao    datetime64[ns]\n",
      "status                      object\n",
      "pontuacao                    int64\n",
      "dtype: object\n"
     ]
    }
   ],
   "source": [
    "crm_df['ultima_interacao'] = pd.to_datetime(crm_df['ultima_interacao'])\n",
    "print(crm_df.dtypes)"
   ]
  },
  {
   "cell_type": "code",
   "execution_count": 133,
   "id": "02a0ffc9",
   "metadata": {},
   "outputs": [
    {
     "name": "stdout",
     "output_type": "stream",
     "text": [
      "sale_id                     object\n",
      "lead_id                     object\n",
      "nome_cliente                object\n",
      "email_cliente               object\n",
      "data_venda          datetime64[ns]\n",
      "produto                     object\n",
      "valor_total                float64\n",
      "quantidade                   int64\n",
      "meio_pagamento              object\n",
      "status_pagamento            object\n",
      "campanha_origem             object\n",
      "utm_source                  object\n",
      "utm_campaign                object\n",
      "canal_origem                object\n",
      "dtype: object\n"
     ]
    }
   ],
   "source": [
    "vendas_df['data_venda'] = pd.to_datetime(vendas_df['data_venda'])\n",
    "print(vendas_df.dtypes)"
   ]
  },
  {
   "cell_type": "markdown",
   "id": "33322464",
   "metadata": {},
   "source": [
    "# Save Data"
   ]
  },
  {
   "cell_type": "code",
   "execution_count": 58,
   "id": "18c33cb2",
   "metadata": {},
   "outputs": [],
   "source": [
    "meta_df.to_csv(\"data/metaads_data.csv\")\n",
    "crm_df.to_csv(\"data/crm_data.csv\")\n",
    "vendas_df.to_csv(\"data/vendas_data.csv\")"
   ]
  },
  {
   "cell_type": "code",
   "execution_count": 79,
   "id": "8b12cf43",
   "metadata": {},
   "outputs": [],
   "source": [
    "vendas_df_clean = vendas_df.drop(columns=['campanha_origem', 'canal_origem', 'email_cliente', 'nome_cliente'])\n",
    "crm_sales = crm_df.merge(vendas_df_clean, on='lead_id', how='outer')\n"
   ]
  },
  {
   "cell_type": "code",
   "execution_count": 84,
   "id": "d8af2db0",
   "metadata": {},
   "outputs": [],
   "source": [
    "crm_sales.to_csv('data/crm_sales_data.csv')"
   ]
  }
 ],
 "metadata": {
  "kernelspec": {
   "display_name": "3.11.3",
   "language": "python",
   "name": "python3"
  },
  "language_info": {
   "codemirror_mode": {
    "name": "ipython",
    "version": 3
   },
   "file_extension": ".py",
   "mimetype": "text/x-python",
   "name": "python",
   "nbconvert_exporter": "python",
   "pygments_lexer": "ipython3",
   "version": "3.11.3"
  }
 },
 "nbformat": 4,
 "nbformat_minor": 5
}
