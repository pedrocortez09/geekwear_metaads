{
 "cells": [
  {
   "cell_type": "markdown",
   "id": "5c6e7dde",
   "metadata": {},
   "source": [
    "# PROJETO MARKETING GEEKWEAR"
   ]
  },
  {
   "cell_type": "markdown",
   "id": "7dedacc1",
   "metadata": {},
   "source": [
    "*Quero ver:*\n",
    "- Se meus anúncios estão funcionando. # DE QUAIS ANUNCIOS VIERAM AS MAIORES VENDAS\n",
    "- De onde meus melhores leads/vendas estão vindo. # DE QUAIS CAMPANHAS VIERAM AS MAIORES VENDAS?\n",
    "- Se estou gastando dinheiro à toa em campanhas que não convertem. # VERIFICAR AS CONVERSÕES POR CAMPANHA\n",
    "- Como vender mais com menos custo. # QUAIS OS PUBLICOS QUE MAIS CONVERTEM\n",
    "\n",
    "*Quero acessar:*\n",
    "- Um Dashboard visual, rápido, sem precisar instalar nada. \n",
    "- Um Relatório mensal ou quinzenal com insights claros.\n",
    "- Se possível, alertas automáticos para campanhas muito ruins ou boas.\n",
    "\n",
    "*Quero recomendações:*\n",
    "- \"Invista mais em tal campanha.\"\n",
    "- \"Pare de gastar com essa aqui.\"\n",
    "- \"Ofereça produto X para público Y.\"\n",
    "- \"Esse lead tem alta chance de comprar — atacar rápido.\""
   ]
  },
  {
   "cell_type": "markdown",
   "id": "902e5820",
   "metadata": {},
   "source": [
    "*Indicadores importantes:*\n",
    "- CAC (Custo de Aquisição de Cliente)\n",
    "- Tempo médio de conversão\n",
    "- Taxa de conversão por campanha / canal\n",
    "- Receita gerada por campanha\n",
    "- Retorno sobre investimento (ROI)\n",
    "\n",
    "*Ferramenta para Visualização:*\n",
    "- Power BI (acesso via link público, fácil) ou Google Looker Studio (grátis e fácil)"
   ]
  },
  {
   "cell_type": "markdown",
   "id": "c38185e8",
   "metadata": {},
   "source": [
    "*Exemplos de perguntas inteligentes que o cliente poderia responder com o seu projeto:*\n",
    "- Quais campanhas geram mais vendas e menos CAC?\n",
    "- Qual o tempo médio que um lead demora para comprar?\n",
    "- De quais canais vêm os leads de melhor qualidade?\n",
    "- Onde estou gastando dinheiro sem retorno?\n",
    "- Quais leads devo atacar primeiro?\n",
    "- Quanto posso investir a mais na campanha que tem ROI positivo?"
   ]
  },
  {
   "cell_type": "markdown",
   "id": "4b7a22ab",
   "metadata": {},
   "source": [
    "*Relatório de Insights:*\n",
    "- Melhor campanha do mês.\n",
    "- Campanha que teve lead barato mas não vendeu.\n",
    "- Lead com maior tempo parado sem vender (potencial abandono).\n",
    "\n",
    "*Formato:*\n",
    "-Resumo simples (ex: 1 página ou bullets).\n",
    "- Entregue via PDF ou link do Notion."
   ]
  },
  {
   "cell_type": "markdown",
   "id": "2d316a5f",
   "metadata": {},
   "source": [
    "# 0.0. IMPORTS"
   ]
  },
  {
   "cell_type": "code",
   "execution_count": 1,
   "metadata": {},
   "outputs": [],
   "source": [
    "import pandas as pd\n",
    "import numpy as np\n",
    "\n",
    "import matplotlib.pyplot as plt\n",
    "import seaborn as sns"
   ]
  },
  {
   "cell_type": "markdown",
   "id": "bef63693",
   "metadata": {},
   "source": [
    "## Loading Data"
   ]
  },
  {
   "cell_type": "code",
   "execution_count": 2,
   "id": "d514fd81",
   "metadata": {},
   "outputs": [],
   "source": [
    "df_ads = pd.read_csv('data/raw/metaads_data.csv', index_col=0)\n",
    "df_crm = pd.read_csv('data/raw/crm_sales_data.csv', index_col=0)"
   ]
  },
  {
   "cell_type": "markdown",
   "id": "b88a7d51",
   "metadata": {},
   "source": [
    "# 1. Descrição dos Dados"
   ]
  },
  {
   "cell_type": "markdown",
   "id": "b9b76918",
   "metadata": {},
   "source": [
    "## Data Shape"
   ]
  },
  {
   "cell_type": "code",
   "execution_count": 3,
   "id": "da02b0b2",
   "metadata": {},
   "outputs": [
    {
     "name": "stdout",
     "output_type": "stream",
     "text": [
      "Numero de Linhas De cada Dataset:\n",
      "META ADS: 1000\n",
      "CRM LEADS: 315\n",
      "Numero de Colunas De cada Dataset:\n",
      "META ADS: 14\n",
      "CRM LEADS: 22\n"
     ]
    }
   ],
   "source": [
    "print(f'Numero de Linhas De cada Dataset:')\n",
    "print(f'META ADS: {df_ads.shape[0]}')\n",
    "print(f'CRM LEADS: {df_crm.shape[0]}')\n",
    "\n",
    "print(f'Numero de Colunas De cada Dataset:')\n",
    "print(f'META ADS: {df_ads.shape[1]}')\n",
    "print(f'CRM LEADS: {df_crm.shape[1]}')"
   ]
  },
  {
   "cell_type": "markdown",
   "id": "f7dae81b",
   "metadata": {},
   "source": [
    "## Data Types"
   ]
  },
  {
   "cell_type": "code",
   "execution_count": 4,
   "id": "da6c4ca0",
   "metadata": {},
   "outputs": [],
   "source": [
    "df_ads['data'] = pd.to_datetime(df_ads['data'])"
   ]
  },
  {
   "cell_type": "code",
   "execution_count": 5,
   "id": "9f67cffe",
   "metadata": {},
   "outputs": [
    {
     "name": "stdout",
     "output_type": "stream",
     "text": [
      "ADS DATA:\n",
      "campanha                    object\n",
      "conjunto_anuncio            object\n",
      "anuncio                     object\n",
      "impressoes                   int64\n",
      "cliques                      int64\n",
      "gasto_total                float64\n",
      "ctr (%)                    float64\n",
      "cpc (R$)                   float64\n",
      "conversões                   int64\n",
      "cpa (R$)                   float64\n",
      "Receita                    float64\n",
      "roas                       float64\n",
      "data                datetime64[ns]\n",
      "dia_da_semana               object\n",
      "dtype: object\n"
     ]
    }
   ],
   "source": [
    "print(\"ADS DATA:\")\n",
    "print(df_ads.dtypes)"
   ]
  },
  {
   "cell_type": "code",
   "execution_count": 6,
   "id": "0991c906",
   "metadata": {},
   "outputs": [],
   "source": [
    "# DATA\n",
    "df_crm['ultima_interacao'] = pd.to_datetime(df_crm['ultima_interacao'])\n",
    "df_crm['data_captura'] = pd.to_datetime(df_crm['data_captura'])\n",
    "df_crm['data_venda'] = pd.to_datetime(df_crm['data_venda'])\n",
    "\n",
    "# NUMERICO\n",
    "df_crm['quantidade'] = df_crm['quantidade'].fillna(0).astype('int32')\n",
    "df_crm['quantidade'].astype('int32');"
   ]
  },
  {
   "cell_type": "code",
   "execution_count": 7,
   "id": "f0e0448d",
   "metadata": {},
   "outputs": [
    {
     "name": "stdout",
     "output_type": "stream",
     "text": [
      "CRM DATA:\n",
      "lead_id                        object\n",
      "nome                           object\n",
      "email                          object\n",
      "telefone                       object\n",
      "data_captura           datetime64[ns]\n",
      "campanha_origem                object\n",
      "ad_clicked                     object\n",
      "canal_origem                   object\n",
      "etapa_funil                    object\n",
      "ultima_interacao       datetime64[ns]\n",
      "status                         object\n",
      "pontuacao                     float64\n",
      "sale_id                        object\n",
      "data_venda             datetime64[ns]\n",
      "produto                        object\n",
      "valor_total                   float64\n",
      "quantidade                      int32\n",
      "meio_pagamento                 object\n",
      "status_pagamento               object\n",
      "utm_source                     object\n",
      "utm_campaign                   object\n",
      "dias_para_conversao           float64\n",
      "dtype: object\n"
     ]
    }
   ],
   "source": [
    "print(\"CRM DATA:\")\n",
    "print(df_crm.dtypes)"
   ]
  },
  {
   "cell_type": "markdown",
   "id": "9fb6ece3",
   "metadata": {},
   "source": [
    "## Data Columns"
   ]
  },
  {
   "cell_type": "code",
   "execution_count": 8,
   "id": "653ff486",
   "metadata": {},
   "outputs": [
    {
     "name": "stdout",
     "output_type": "stream",
     "text": [
      "ADS DATA:\n",
      "Index(['campanha', 'conjunto_anuncio', 'anuncio', 'impressoes', 'cliques',\n",
      "       'gasto_total', 'ctr (%)', 'cpc (R$)', 'conversões', 'cpa (R$)',\n",
      "       'Receita', 'roas', 'data', 'dia_da_semana'],\n",
      "      dtype='object')\n",
      "----------------------------------------------------------------------------------------------------\n",
      "CRM DATA:\n",
      "Index(['lead_id', 'nome', 'email', 'telefone', 'data_captura',\n",
      "       'campanha_origem', 'ad_clicked', 'canal_origem', 'etapa_funil',\n",
      "       'ultima_interacao', 'status', 'pontuacao', 'sale_id', 'data_venda',\n",
      "       'produto', 'valor_total', 'quantidade', 'meio_pagamento',\n",
      "       'status_pagamento', 'utm_source', 'utm_campaign',\n",
      "       'dias_para_conversao'],\n",
      "      dtype='object')\n"
     ]
    }
   ],
   "source": [
    "print(\"ADS DATA:\")\n",
    "print(df_ads.columns)\n",
    "print('----------------------------------------------------------------------------------------------------')\n",
    "print(\"CRM DATA:\")\n",
    "print(df_crm.columns)"
   ]
  },
  {
   "cell_type": "markdown",
   "id": "70955053",
   "metadata": {},
   "source": [
    "## Checando Nulos"
   ]
  },
  {
   "cell_type": "code",
   "execution_count": 9,
   "id": "3062a9ce",
   "metadata": {},
   "outputs": [
    {
     "data": {
      "text/plain": [
       "campanha            0\n",
       "conjunto_anuncio    0\n",
       "anuncio             0\n",
       "impressoes          0\n",
       "cliques             0\n",
       "gasto_total         0\n",
       "ctr (%)             0\n",
       "cpc (R$)            0\n",
       "conversões          0\n",
       "cpa (R$)            0\n",
       "Receita             0\n",
       "roas                0\n",
       "data                0\n",
       "dia_da_semana       0\n",
       "dtype: int64"
      ]
     },
     "execution_count": 9,
     "metadata": {},
     "output_type": "execute_result"
    }
   ],
   "source": [
    "df_ads.isnull().sum()"
   ]
  },
  {
   "cell_type": "code",
   "execution_count": 10,
   "id": "4c805010",
   "metadata": {},
   "outputs": [
    {
     "name": "stdout",
     "output_type": "stream",
     "text": [
      "4 PESSOAS VIERAM DE TRAFEGO DIRETO E NÃO POSSUM 'lead_id.'\n",
      "265 PESSOAS POSSUEM 'lead_id', MAS NÃO CONVERTERAM EM COMPRA\n"
     ]
    },
    {
     "data": {
      "text/plain": [
       "lead_id                  4\n",
       "nome                     4\n",
       "email                    4\n",
       "telefone                 4\n",
       "data_captura             4\n",
       "campanha_origem          4\n",
       "ad_clicked               4\n",
       "canal_origem             4\n",
       "etapa_funil              4\n",
       "ultima_interacao         4\n",
       "status                   4\n",
       "pontuacao                4\n",
       "sale_id                265\n",
       "data_venda             265\n",
       "produto                265\n",
       "valor_total            265\n",
       "quantidade               0\n",
       "meio_pagamento         265\n",
       "status_pagamento       265\n",
       "utm_source             265\n",
       "utm_campaign           265\n",
       "dias_para_conversao    269\n",
       "dtype: int64"
      ]
     },
     "execution_count": 10,
     "metadata": {},
     "output_type": "execute_result"
    }
   ],
   "source": [
    "print(\"4 PESSOAS VIERAM DE TRAFEGO DIRETO E NÃO POSSUM 'lead_id.'\")\n",
    "\n",
    "print(\"265 PESSOAS POSSUEM 'lead_id', MAS NÃO CONVERTERAM EM COMPRA\")\n",
    "\n",
    "df_crm.isnull().sum()"
   ]
  },
  {
   "cell_type": "markdown",
   "id": "55b9f696",
   "metadata": {},
   "source": [
    "# 2 Feature Engineering"
   ]
  },
  {
   "cell_type": "code",
   "execution_count": 11,
   "id": "a103b178",
   "metadata": {},
   "outputs": [],
   "source": [
    "# DIAS ATÉ A CONVERSÃO  \n",
    "df_crm['dias_para_conversao'] = (df_crm['data_venda'] - df_crm['data_captura']).dt.days"
   ]
  },
  {
   "cell_type": "code",
   "execution_count": 12,
   "id": "0d92506b",
   "metadata": {},
   "outputs": [],
   "source": [
    "taxa_campanha = df_ads.groupby('campanha').agg({\n",
    "    'cliques': 'sum',\n",
    "    'impressoes': 'sum',\n",
    "    'conversões': 'sum',\n",
    "    'gasto_total': 'sum'}).reset_index()\n",
    "\n",
    "taxa_campanha['taxa_conversao (%)'] = (taxa_campanha['conversões'] / taxa_campanha['cliques'] * 100).round(2)\n",
    "taxa_conversao = taxa_campanha['taxa_conversao (%)'].mean()"
   ]
  },
  {
   "cell_type": "code",
   "execution_count": 12,
   "id": "58b07253",
   "metadata": {},
   "outputs": [],
   "source": [
    "# Separar a coluna 'conjunto_anuncio' em duas colunas: 'Sexo' e 'Idade'\n",
    "df_ads[['sexo', 'idade']] = df_ads['conjunto_anuncio'].str.extract(r'(?P<Sexo>\\w+)\\s(?P<Idade>\\d{2}-\\d{2})')"
   ]
  },
  {
   "cell_type": "markdown",
   "id": "7e55336e",
   "metadata": {},
   "source": [
    "# 3 Métricas Chave"
   ]
  },
  {
   "cell_type": "code",
   "execution_count": 42,
   "id": "831d7b27",
   "metadata": {},
   "outputs": [],
   "source": [
    "# Configuração dos gráficos\n",
    "%matplotlib inline\n",
    "sns.set(style=\"whitegrid\")"
   ]
  },
  {
   "cell_type": "markdown",
   "id": "6e591340",
   "metadata": {},
   "source": [
    "## Resultado das Campanhas"
   ]
  },
  {
   "cell_type": "code",
   "execution_count": 43,
   "id": "fa9f8a19",
   "metadata": {},
   "outputs": [],
   "source": [
    "# Métricas agrupadas por campanha e publico\n",
    "campanha = df_ads.groupby('campanha').agg({\n",
    "    'impressoes': 'sum',\n",
    "    'cliques': 'sum',\n",
    "    'gasto_total': 'sum',                       \n",
    "    'conversões': 'sum',                               \n",
    "    'anuncio': 'count'\n",
    "}).reset_index().rename(columns={'anuncio': 'dias_campanha'})\n",
    "\n",
    "# Métricas agrupadas por campanha e publico\n",
    "campanha_publico = df_ads.groupby(['campanha', 'conjunto_anuncio']).agg({\n",
    "    'impressoes': 'sum',\n",
    "    'cliques': 'sum',\n",
    "    'gasto_total': 'sum',                       \n",
    "    'conversões': 'sum',                               \n",
    "    'anuncio': 'count'\n",
    "}).reset_index().rename(columns={'anuncio': 'dias_campanha'})\n",
    "\n",
    "\n",
    "# Métricas agrupadas por campanha e anuncio\n",
    "campanha_anuncio = df_ads.groupby(['campanha', 'anuncio']).agg({\n",
    "    'impressoes': 'sum',\n",
    "    'cliques': 'sum',\n",
    "    'gasto_total': 'sum',                       \n",
    "    'conversões': 'sum',                               \n",
    "    'conjunto_anuncio': 'count'\n",
    "}).reset_index().rename(columns={'conjunto_anuncio': 'dias_campanha'})"
   ]
  },
  {
   "cell_type": "code",
   "execution_count": 44,
   "id": "9b660851",
   "metadata": {},
   "outputs": [],
   "source": [
    "#CAMPANHA PUBLICO\n",
    "\n",
    "# CTR (%)\n",
    "campanha['CTR(%)'] = np.round((campanha['cliques'] / campanha['impressoes']) * 100, 2)\n",
    "\n",
    "# CPC (R$)\n",
    "campanha['CPC(R$)'] =np.round(campanha['gasto_total'] / campanha['cliques'], 2)\n",
    "\n",
    "# CPA (R$)\n",
    "campanha['CPA(R$)'] = np.round(campanha['gasto_total'] / campanha['conversões'], 2)\n",
    "\n",
    "# ROAS\n",
    "#campanha_metrics['ROAS'] = np.round(campanha_metrics['Receita'] / campanha_metrics['gasto_total'], 2)\n",
    "\n",
    "\n",
    "\n",
    "\n",
    "#CAMPANHA PUBLICO\n",
    "\n",
    "# CTR (%)\n",
    "campanha_publico['CTR(%)'] = np.round((campanha_publico['cliques'] / campanha_publico['impressoes']) * 100, 2)\n",
    "\n",
    "# CPC (R$)\n",
    "campanha_publico['CPC(R$)'] =np.round(campanha_publico['gasto_total'] / campanha_publico['cliques'], 2)\n",
    "\n",
    "# CPA (R$)\n",
    "campanha_publico['CPA(R$)'] = np.round(campanha_publico['gasto_total'] / campanha_publico['conversões'], 2)\n",
    "\n",
    "# ROAS\n",
    "#campanha_metrics['ROAS'] = np.round(campanha_metrics['Receita'] / campanha_metrics['gasto_total'], 2)\n",
    "\n",
    "# --------------------------------------------------------------------------------------------------------------------------------------------------------------------\n",
    "\n",
    "#CAMPANHA ANUNCIO\n",
    "\n",
    "# CTR (%)\n",
    "campanha_anuncio['CTR(%)'] = np.round((campanha_anuncio['cliques'] / campanha_anuncio['impressoes']) * 100, 2)\n",
    "\n",
    "# CPC (R$)\n",
    "campanha_anuncio['CPC(R$)'] =np.round(campanha_anuncio['gasto_total'] / campanha_anuncio['cliques'], 2)\n",
    "\n",
    "# CPA (R$)\n",
    "campanha_anuncio['CPA(R$)'] = np.round(campanha_anuncio['gasto_total'] / campanha_anuncio['conversões'], 2)\n",
    "\n",
    "# ROAS\n",
    "#campanha_metrics['ROAS'] = np.round(campanha_metrics['Receita'] / campanha_metrics['gasto_total'], 2)"
   ]
  },
  {
   "cell_type": "code",
   "execution_count": 45,
   "id": "8c9f0051",
   "metadata": {},
   "outputs": [],
   "source": [
    "#campanha_publico.to_csv(\"data/tratados/campanha_publico.csv\")\n",
    "#campanha_anuncio.to_csv(\"data/tratados/campanha_anuncio.csv\")\n",
    "#campanha.to_csv(\"data/tratados/campanha_geral.csv\")"
   ]
  },
  {
   "cell_type": "markdown",
   "id": "225490db",
   "metadata": {},
   "source": [
    "## Vendas e Leads"
   ]
  },
  {
   "cell_type": "markdown",
   "id": "16acf78c",
   "metadata": {},
   "source": [
    "### Por Campanha"
   ]
  },
  {
   "cell_type": "code",
   "execution_count": 46,
   "id": "914ff33f",
   "metadata": {},
   "outputs": [
    {
     "data": {
      "text/html": [
       "<div>\n",
       "<style scoped>\n",
       "    .dataframe tbody tr th:only-of-type {\n",
       "        vertical-align: middle;\n",
       "    }\n",
       "\n",
       "    .dataframe tbody tr th {\n",
       "        vertical-align: top;\n",
       "    }\n",
       "\n",
       "    .dataframe thead th {\n",
       "        text-align: right;\n",
       "    }\n",
       "</style>\n",
       "<table border=\"1\" class=\"dataframe\">\n",
       "  <thead>\n",
       "    <tr style=\"text-align: right;\">\n",
       "      <th></th>\n",
       "      <th>campanha_origem</th>\n",
       "      <th>leads</th>\n",
       "      <th>vendas_leads</th>\n",
       "      <th>vendas</th>\n",
       "      <th>receita_total</th>\n",
       "      <th>taxa_conversao</th>\n",
       "    </tr>\n",
       "  </thead>\n",
       "  <tbody>\n",
       "    <tr>\n",
       "      <th>2</th>\n",
       "      <td>Camisetas Series</td>\n",
       "      <td>119</td>\n",
       "      <td>20</td>\n",
       "      <td>24</td>\n",
       "      <td>5784.22</td>\n",
       "      <td>20.17</td>\n",
       "    </tr>\n",
       "    <tr>\n",
       "      <th>1</th>\n",
       "      <td>Camisetas Filmes</td>\n",
       "      <td>158</td>\n",
       "      <td>18</td>\n",
       "      <td>19</td>\n",
       "      <td>4955.76</td>\n",
       "      <td>12.03</td>\n",
       "    </tr>\n",
       "    <tr>\n",
       "      <th>0</th>\n",
       "      <td>Blusas Inverno</td>\n",
       "      <td>34</td>\n",
       "      <td>3</td>\n",
       "      <td>3</td>\n",
       "      <td>707.67</td>\n",
       "      <td>8.82</td>\n",
       "    </tr>\n",
       "  </tbody>\n",
       "</table>\n",
       "</div>"
      ],
      "text/plain": [
       "    campanha_origem  leads  vendas_leads  vendas  receita_total  \\\n",
       "2  Camisetas Series    119            20      24        5784.22   \n",
       "1  Camisetas Filmes    158            18      19        4955.76   \n",
       "0    Blusas Inverno     34             3       3         707.67   \n",
       "\n",
       "   taxa_conversao  \n",
       "2           20.17  \n",
       "1           12.03  \n",
       "0            8.82  "
      ]
     },
     "metadata": {},
     "output_type": "display_data"
    }
   ],
   "source": [
    "## CAMPANHA VENDAS\n",
    "campanha_vendas = df_crm.groupby('campanha_origem').agg({\n",
    "    'lead_id': 'count',\n",
    "    'status': lambda x: (x == 'Ganhou').sum(),\n",
    "    'sale_id': 'count',\n",
    "    'valor_total': 'sum'\n",
    "}).reset_index()\n",
    "\n",
    "\n",
    "# Taxa de Conversão por Campanha\n",
    "campanha_vendas.columns = ['campanha_origem', 'leads', 'vendas_leads', 'vendas', 'receita_total']\n",
    "campanha_vendas['taxa_conversao'] = np.round((campanha_vendas['vendas'] / campanha_vendas['leads']) * 100, 2)\n",
    "\n",
    "display(campanha_vendas.sort_values(by='taxa_conversao', ascending=False))"
   ]
  },
  {
   "cell_type": "code",
   "execution_count": 47,
   "id": "c84106ba",
   "metadata": {},
   "outputs": [],
   "source": [
    "#campanha_vendas.to_csv('data/tratados/campanha_vendas.csv')"
   ]
  },
  {
   "cell_type": "code",
   "execution_count": 48,
   "id": "d15b39d2",
   "metadata": {},
   "outputs": [
    {
     "data": {
      "text/html": [
       "<div>\n",
       "<style scoped>\n",
       "    .dataframe tbody tr th:only-of-type {\n",
       "        vertical-align: middle;\n",
       "    }\n",
       "\n",
       "    .dataframe tbody tr th {\n",
       "        vertical-align: top;\n",
       "    }\n",
       "\n",
       "    .dataframe thead th {\n",
       "        text-align: right;\n",
       "    }\n",
       "</style>\n",
       "<table border=\"1\" class=\"dataframe\">\n",
       "  <thead>\n",
       "    <tr style=\"text-align: right;\">\n",
       "      <th></th>\n",
       "      <th>campanha_origem</th>\n",
       "      <th>etapa_funil</th>\n",
       "      <th>qtd_leads</th>\n",
       "      <th>percentual</th>\n",
       "    </tr>\n",
       "  </thead>\n",
       "  <tbody>\n",
       "    <tr>\n",
       "      <th>0</th>\n",
       "      <td>Blusas Inverno</td>\n",
       "      <td>Carrinho</td>\n",
       "      <td>7</td>\n",
       "      <td>20.59</td>\n",
       "    </tr>\n",
       "    <tr>\n",
       "      <th>1</th>\n",
       "      <td>Blusas Inverno</td>\n",
       "      <td>Checkout</td>\n",
       "      <td>7</td>\n",
       "      <td>20.59</td>\n",
       "    </tr>\n",
       "    <tr>\n",
       "      <th>2</th>\n",
       "      <td>Blusas Inverno</td>\n",
       "      <td>Comprou</td>\n",
       "      <td>3</td>\n",
       "      <td>8.82</td>\n",
       "    </tr>\n",
       "    <tr>\n",
       "      <th>3</th>\n",
       "      <td>Blusas Inverno</td>\n",
       "      <td>Visita</td>\n",
       "      <td>17</td>\n",
       "      <td>50.00</td>\n",
       "    </tr>\n",
       "    <tr>\n",
       "      <th>4</th>\n",
       "      <td>Camisetas Filmes</td>\n",
       "      <td>Carrinho</td>\n",
       "      <td>43</td>\n",
       "      <td>27.22</td>\n",
       "    </tr>\n",
       "    <tr>\n",
       "      <th>5</th>\n",
       "      <td>Camisetas Filmes</td>\n",
       "      <td>Checkout</td>\n",
       "      <td>31</td>\n",
       "      <td>19.62</td>\n",
       "    </tr>\n",
       "    <tr>\n",
       "      <th>6</th>\n",
       "      <td>Camisetas Filmes</td>\n",
       "      <td>Comprou</td>\n",
       "      <td>19</td>\n",
       "      <td>12.03</td>\n",
       "    </tr>\n",
       "    <tr>\n",
       "      <th>7</th>\n",
       "      <td>Camisetas Filmes</td>\n",
       "      <td>Visita</td>\n",
       "      <td>65</td>\n",
       "      <td>41.14</td>\n",
       "    </tr>\n",
       "    <tr>\n",
       "      <th>8</th>\n",
       "      <td>Camisetas Series</td>\n",
       "      <td>Carrinho</td>\n",
       "      <td>38</td>\n",
       "      <td>31.93</td>\n",
       "    </tr>\n",
       "    <tr>\n",
       "      <th>9</th>\n",
       "      <td>Camisetas Series</td>\n",
       "      <td>Checkout</td>\n",
       "      <td>18</td>\n",
       "      <td>15.13</td>\n",
       "    </tr>\n",
       "    <tr>\n",
       "      <th>10</th>\n",
       "      <td>Camisetas Series</td>\n",
       "      <td>Comprou</td>\n",
       "      <td>24</td>\n",
       "      <td>20.17</td>\n",
       "    </tr>\n",
       "    <tr>\n",
       "      <th>11</th>\n",
       "      <td>Camisetas Series</td>\n",
       "      <td>Visita</td>\n",
       "      <td>39</td>\n",
       "      <td>32.77</td>\n",
       "    </tr>\n",
       "  </tbody>\n",
       "</table>\n",
       "</div>"
      ],
      "text/plain": [
       "     campanha_origem etapa_funil  qtd_leads  percentual\n",
       "0     Blusas Inverno    Carrinho          7       20.59\n",
       "1     Blusas Inverno    Checkout          7       20.59\n",
       "2     Blusas Inverno     Comprou          3        8.82\n",
       "3     Blusas Inverno      Visita         17       50.00\n",
       "4   Camisetas Filmes    Carrinho         43       27.22\n",
       "5   Camisetas Filmes    Checkout         31       19.62\n",
       "6   Camisetas Filmes     Comprou         19       12.03\n",
       "7   Camisetas Filmes      Visita         65       41.14\n",
       "8   Camisetas Series    Carrinho         38       31.93\n",
       "9   Camisetas Series    Checkout         18       15.13\n",
       "10  Camisetas Series     Comprou         24       20.17\n",
       "11  Camisetas Series      Visita         39       32.77"
      ]
     },
     "metadata": {},
     "output_type": "display_data"
    }
   ],
   "source": [
    "# Agrupando por campanha e etapa do funil\n",
    "campanha_funil = df_crm.groupby(['campanha_origem', 'etapa_funil'])['lead_id'].count().reset_index()\n",
    "campanha_funil = campanha_funil.rename(columns={'lead_id': 'qtd_leads'})\n",
    "\n",
    "# Total de leads por campanha\n",
    "totais = campanha_funil.groupby('campanha_origem')['qtd_leads'].transform('sum')\n",
    "\n",
    "# Percentual por etapa\n",
    "campanha_funil['percentual'] = (campanha_funil['qtd_leads'] / totais) * 100\n",
    "campanha_funil['percentual'] = campanha_funil['percentual'].round(2)\n",
    "\n",
    "# Visualizando o resultado\n",
    "display(campanha_funil.sort_values(by=['campanha_origem', 'etapa_funil']))"
   ]
  },
  {
   "cell_type": "code",
   "execution_count": 49,
   "id": "e85fb6c3",
   "metadata": {},
   "outputs": [],
   "source": [
    "#campanha_funil.to_csv('data/tratados/campanha_funil.csv')"
   ]
  },
  {
   "cell_type": "markdown",
   "id": "251d30eb",
   "metadata": {},
   "source": [
    "### Por Canal de Origem"
   ]
  },
  {
   "cell_type": "code",
   "execution_count": 50,
   "id": "119458a5",
   "metadata": {},
   "outputs": [
    {
     "data": {
      "text/html": [
       "<div>\n",
       "<style scoped>\n",
       "    .dataframe tbody tr th:only-of-type {\n",
       "        vertical-align: middle;\n",
       "    }\n",
       "\n",
       "    .dataframe tbody tr th {\n",
       "        vertical-align: top;\n",
       "    }\n",
       "\n",
       "    .dataframe thead th {\n",
       "        text-align: right;\n",
       "    }\n",
       "</style>\n",
       "<table border=\"1\" class=\"dataframe\">\n",
       "  <thead>\n",
       "    <tr style=\"text-align: right;\">\n",
       "      <th></th>\n",
       "      <th>canal_origem</th>\n",
       "      <th>total_leads</th>\n",
       "      <th>compraram</th>\n",
       "      <th>taxa_conversao_%</th>\n",
       "    </tr>\n",
       "  </thead>\n",
       "  <tbody>\n",
       "    <tr>\n",
       "      <th>0</th>\n",
       "      <td>Email</td>\n",
       "      <td>20</td>\n",
       "      <td>6</td>\n",
       "      <td>30.00</td>\n",
       "    </tr>\n",
       "    <tr>\n",
       "      <th>1</th>\n",
       "      <td>Facebook</td>\n",
       "      <td>79</td>\n",
       "      <td>14</td>\n",
       "      <td>17.72</td>\n",
       "    </tr>\n",
       "    <tr>\n",
       "      <th>2</th>\n",
       "      <td>Google</td>\n",
       "      <td>78</td>\n",
       "      <td>10</td>\n",
       "      <td>12.82</td>\n",
       "    </tr>\n",
       "    <tr>\n",
       "      <th>3</th>\n",
       "      <td>Instagram</td>\n",
       "      <td>90</td>\n",
       "      <td>11</td>\n",
       "      <td>12.22</td>\n",
       "    </tr>\n",
       "    <tr>\n",
       "      <th>4</th>\n",
       "      <td>Tráfego Direto</td>\n",
       "      <td>44</td>\n",
       "      <td>5</td>\n",
       "      <td>11.36</td>\n",
       "    </tr>\n",
       "  </tbody>\n",
       "</table>\n",
       "</div>"
      ],
      "text/plain": [
       "     canal_origem  total_leads  compraram  taxa_conversao_%\n",
       "0           Email           20          6             30.00\n",
       "1        Facebook           79         14             17.72\n",
       "2          Google           78         10             12.82\n",
       "3       Instagram           90         11             12.22\n",
       "4  Tráfego Direto           44          5             11.36"
      ]
     },
     "execution_count": 50,
     "metadata": {},
     "output_type": "execute_result"
    }
   ],
   "source": [
    "# 1. Total de leads por canal\n",
    "total_leads_por_canal = df_crm.groupby('canal_origem')['lead_id'].count().rename('total_leads')\n",
    "\n",
    "# 2. Total de leads que compraram por canal\n",
    "compraram_por_canal = df_crm[df_crm['etapa_funil'] == 'Comprou'].groupby('canal_origem')['lead_id'].count().rename('compraram')\n",
    "\n",
    "# 3. Juntando os dois\n",
    "conversao_canal = pd.concat([total_leads_por_canal, compraram_por_canal], axis=1).fillna(0)\n",
    "\n",
    "# 4. Taxa de conversão (%)\n",
    "conversao_canal['taxa_conversao_%'] = np.round((conversao_canal['compraram'] / conversao_canal['total_leads']) * 100, 2)\n",
    "\n",
    "# 5. Ordenar por taxa de conversão\n",
    "conversao_canal = conversao_canal.sort_values(by='taxa_conversao_%', ascending=False)\n",
    "\n",
    "# 6. Visualizar\n",
    "conversao_canal.reset_index()"
   ]
  },
  {
   "cell_type": "code",
   "execution_count": 51,
   "id": "539d6f3e",
   "metadata": {},
   "outputs": [],
   "source": [
    "#conversao_canal.to_csv('data/tratados/canal_conversao.csv')"
   ]
  },
  {
   "cell_type": "markdown",
   "id": "bb9f7ae6",
   "metadata": {},
   "source": [
    "# 4. Análise Exploratória"
   ]
  },
  {
   "cell_type": "markdown",
   "id": "13d18cea",
   "metadata": {},
   "source": [
    "## Campanhas Geral"
   ]
  },
  {
   "cell_type": "markdown",
   "id": "850aa752",
   "metadata": {},
   "source": [
    "### Impressões e Cliques"
   ]
  },
  {
   "cell_type": "code",
   "execution_count": 53,
   "id": "2d15cd45",
   "metadata": {},
   "outputs": [
    {
     "data": {
      "image/png": "[encoded data removed]",
      "text/plain": [
       "<Figure size 1600x600 with 2 Axes>"
      ]
     },
     "metadata": {},
     "output_type": "display_data"
    }
   ],
   "source": [
    "# Calculando impressões e cliques médios por campanha por dia\n",
    "campanha['impressoes_dia'] = campanha['impressoes'] / campanha['dias_campanha']\n",
    "campanha['cliques_dia'] = campanha['cliques'] / campanha['dias_campanha']\n",
    "\n",
    "# Ordenar por maior valor para visualização clara\n",
    "df_imp = campanha.sort_values('impressoes_dia', ascending=False)\n",
    "df_clk = campanha.sort_values('cliques_dia', ascending=False)\n",
    "\n",
    "# Criar subplots\n",
    "fig, axes = plt.subplots(1, 2, figsize=(16, 6))\n",
    "\n",
    "# Gráfico 1 - Impressões por dia\n",
    "sns.barplot(data=df_imp, x='campanha', y='impressoes_dia', hue='campanha', ax=axes[0], palette='Blues_d')\n",
    "axes[0].set_title('Média de Impressões por Dia (por Campanha)')\n",
    "axes[0].set_ylabel('Impressões/Dia')\n",
    "axes[0].tick_params(axis='x', rotation=45)\n",
    "for i, v in enumerate(df_imp['impressoes_dia']):\n",
    "    axes[0].text(i, v + 50, f'{v:.0f}', ha='center', va='bottom', fontsize=9)\n",
    "\n",
    "# Gráfico 2 - Cliques por dia\n",
    "sns.barplot(data=df_clk, x='campanha', y='cliques_dia', hue='campanha', ax=axes[1], palette='Greens_d')\n",
    "axes[1].set_title('Média de Cliques por Dia (por Campanha)')\n",
    "axes[1].set_ylabel('Cliques/Dia')\n",
    "axes[1].tick_params(axis='x', rotation=45)\n",
    "for i, v in enumerate(df_clk['cliques_dia']):\n",
    "    axes[1].text(i, v + 5, f'{v:.0f}', ha='center', va='bottom', fontsize=9)\n",
    "\n",
    "# Ajustar layout\n",
    "plt.tight_layout()\n",
    "plt.show()\n"
   ]
  },
  {
   "cell_type": "markdown",
   "id": "65af4720",
   "metadata": {},
   "source": [
    "### Gasto total"
   ]
  },
  {
   "cell_type": "code",
   "execution_count": 54,
   "id": "f6943d14",
   "metadata": {},
   "outputs": [],
   "source": [
    "campanha['gasto_dia'] = campanha['gasto_total'] / campanha['dias_campanha']"
   ]
  },
  {
   "cell_type": "code",
   "execution_count": 55,
   "id": "d2689f55",
   "metadata": {},
   "outputs": [
    {
     "data": {
      "image/png": "[encoded data removed]",
      "text/plain": [
       "<Figure size 800x600 with 1 Axes>"
      ]
     },
     "metadata": {},
     "output_type": "display_data"
    }
   ],
   "source": [
    "fig, ax = plt.subplots(figsize=(8, 6))  # apenas 1 subplot\n",
    "\n",
    "aux = campanha.sort_values(by='gasto_dia', ascending=False)\n",
    "sns.barplot(data=aux, x='campanha', y='gasto_dia', hue='campanha', ax=ax, palette='Blues_d')\n",
    "\n",
    "ax.set_title('Média de Gasto da Campanha por Dia')\n",
    "ax.tick_params(axis='x', rotation=45)\n",
    "for i, v in enumerate(aux['gasto_dia']):\n",
    "    ax.text(i, v + 0.5, f'R${v:.2f}', ha='center', va='bottom', fontsize=10)\n",
    "\n",
    "plt.tight_layout()\n",
    "plt.show()"
   ]
  },
  {
   "cell_type": "markdown",
   "id": "65ab2c41",
   "metadata": {},
   "source": [
    "### CTR, CPC, CPA"
   ]
  },
  {
   "cell_type": "code",
   "execution_count": 56,
   "id": "6678a234",
   "metadata": {},
   "outputs": [
    {
     "data": {
      "image/png": "[encoded data removed]",
      "text/plain": [
       "<Figure size 1800x600 with 3 Axes>"
      ]
     },
     "metadata": {},
     "output_type": "display_data"
    }
   ],
   "source": [
    "# Ajustar tamanho geral\n",
    "fig, axes = plt.subplots(1, 3, figsize=(18, 6))\n",
    "\n",
    "# Subplot 1 - CTR (%)\n",
    "df_ctr = campanha.sort_values(by='CTR(%)', ascending=False)\n",
    "sns.barplot(data=df_ctr, x='campanha', y='CTR(%)', ax=axes[0], color='#4c78a8')\n",
    "axes[0].set_title('CTR (%)')\n",
    "axes[0].tick_params(axis='x', rotation=45)\n",
    "for i, v in enumerate(df_ctr['CTR(%)']):\n",
    "    axes[0].text(i, v + 0.5, f'{v:.1f}%', ha='center', va='bottom', fontsize=9)\n",
    "\n",
    "# Subplot 2 - CPC (menor para maior)\n",
    "df_cpc = campanha.sort_values(by='CPC(R$)', ascending=True)\n",
    "sns.barplot(data=df_cpc, x='campanha', y='CPC(R$)', ax=axes[1], hue='campanha', palette='Oranges_d')\n",
    "axes[1].set_title('CPC por Campanha (R$)')\n",
    "axes[1].tick_params(axis='x', rotation=45)\n",
    "for i, v in enumerate(df_cpc['CPC(R$)']):\n",
    "    axes[1].text(i, v + 0.05, f'R${v:.2f}', ha='center', va='bottom', fontsize=9)\n",
    "\n",
    "# Subplot 3 - CPA (menor para maior)\n",
    "df_cpa = campanha.sort_values(by='CPA(R$)', ascending=True)\n",
    "sns.barplot(data=df_cpa, x='campanha', y='CPA(R$)', hue='campanha', ax=axes[2], palette='Greens_d')\n",
    "axes[2].set_title('CPA por Campanha (R$)')\n",
    "axes[2].tick_params(axis='x', rotation=45)\n",
    "for i, v in enumerate(df_cpa['CPA(R$)']):\n",
    "    axes[2].text(i, v + 0.05, f'R${v:.2f}', ha='center', va='bottom', fontsize=9)\n",
    "\n",
    "# Ajustar espaçamento\n",
    "plt.tight_layout()\n",
    "plt.show()"
   ]
  },
  {
   "cell_type": "markdown",
   "id": "35556e5b",
   "metadata": {},
   "source": [
    "### Funil de Vendas"
   ]
  },
  {
   "cell_type": "code",
   "execution_count": null,
   "id": "0a7aac3a",
   "metadata": {},
   "outputs": [],
   "source": []
  },
  {
   "cell_type": "markdown",
   "id": "94a1743a",
   "metadata": {},
   "source": [
    "# Save Datasets"
   ]
  },
  {
   "cell_type": "code",
   "execution_count": 80,
   "id": "e3ab7272",
   "metadata": {},
   "outputs": [
    {
     "data": {
      "text/html": [
       "<div>\n",
       "<style scoped>\n",
       "    .dataframe tbody tr th:only-of-type {\n",
       "        vertical-align: middle;\n",
       "    }\n",
       "\n",
       "    .dataframe tbody tr th {\n",
       "        vertical-align: top;\n",
       "    }\n",
       "\n",
       "    .dataframe thead th {\n",
       "        text-align: right;\n",
       "    }\n",
       "</style>\n",
       "<table border=\"1\" class=\"dataframe\">\n",
       "  <thead>\n",
       "    <tr style=\"text-align: right;\">\n",
       "      <th></th>\n",
       "      <th>campanha</th>\n",
       "      <th>impressoes</th>\n",
       "      <th>cliques</th>\n",
       "      <th>gasto_total</th>\n",
       "      <th>conversões</th>\n",
       "      <th>dias_campanha</th>\n",
       "      <th>CTR(%)</th>\n",
       "      <th>CPC(R$)</th>\n",
       "      <th>CPA(R$)</th>\n",
       "      <th>impressoes_dia</th>\n",
       "      <th>cliques_dia</th>\n",
       "      <th>gasto_dia</th>\n",
       "    </tr>\n",
       "  </thead>\n",
       "  <tbody>\n",
       "    <tr>\n",
       "      <th>0</th>\n",
       "      <td>Acessorios</td>\n",
       "      <td>1146610</td>\n",
       "      <td>61325</td>\n",
       "      <td>79066.14</td>\n",
       "      <td>32284</td>\n",
       "      <td>103</td>\n",
       "      <td>5.35</td>\n",
       "      <td>1.29</td>\n",
       "      <td>2.45</td>\n",
       "      <td>11132.135922</td>\n",
       "      <td>595.388350</td>\n",
       "      <td>767.632427</td>\n",
       "    </tr>\n",
       "    <tr>\n",
       "      <th>1</th>\n",
       "      <td>Blusas Inverno</td>\n",
       "      <td>1944572</td>\n",
       "      <td>99389</td>\n",
       "      <td>137977.34</td>\n",
       "      <td>48660</td>\n",
       "      <td>188</td>\n",
       "      <td>5.11</td>\n",
       "      <td>1.39</td>\n",
       "      <td>2.84</td>\n",
       "      <td>10343.468085</td>\n",
       "      <td>528.664894</td>\n",
       "      <td>733.922021</td>\n",
       "    </tr>\n",
       "    <tr>\n",
       "      <th>2</th>\n",
       "      <td>Camisetas Filmes</td>\n",
       "      <td>4670706</td>\n",
       "      <td>248605</td>\n",
       "      <td>342610.61</td>\n",
       "      <td>123755</td>\n",
       "      <td>432</td>\n",
       "      <td>5.32</td>\n",
       "      <td>1.38</td>\n",
       "      <td>2.77</td>\n",
       "      <td>10811.819444</td>\n",
       "      <td>575.474537</td>\n",
       "      <td>793.080116</td>\n",
       "    </tr>\n",
       "    <tr>\n",
       "      <th>3</th>\n",
       "      <td>Camisetas Series</td>\n",
       "      <td>2929864</td>\n",
       "      <td>147047</td>\n",
       "      <td>216356.50</td>\n",
       "      <td>76375</td>\n",
       "      <td>277</td>\n",
       "      <td>5.02</td>\n",
       "      <td>1.47</td>\n",
       "      <td>2.83</td>\n",
       "      <td>10577.126354</td>\n",
       "      <td>530.855596</td>\n",
       "      <td>781.070397</td>\n",
       "    </tr>\n",
       "  </tbody>\n",
       "</table>\n",
       "</div>"
      ],
      "text/plain": [
       "           campanha  impressoes  cliques  gasto_total  conversões  \\\n",
       "0        Acessorios     1146610    61325     79066.14       32284   \n",
       "1    Blusas Inverno     1944572    99389    137977.34       48660   \n",
       "2  Camisetas Filmes     4670706   248605    342610.61      123755   \n",
       "3  Camisetas Series     2929864   147047    216356.50       76375   \n",
       "\n",
       "   dias_campanha  CTR(%)  CPC(R$)  CPA(R$)  impressoes_dia  cliques_dia  \\\n",
       "0            103    5.35     1.29     2.45    11132.135922   595.388350   \n",
       "1            188    5.11     1.39     2.84    10343.468085   528.664894   \n",
       "2            432    5.32     1.38     2.77    10811.819444   575.474537   \n",
       "3            277    5.02     1.47     2.83    10577.126354   530.855596   \n",
       "\n",
       "    gasto_dia  \n",
       "0  767.632427  \n",
       "1  733.922021  \n",
       "2  793.080116  \n",
       "3  781.070397  "
      ]
     },
     "execution_count": 80,
     "metadata": {},
     "output_type": "execute_result"
    }
   ],
   "source": [
    "campanha"
   ]
  },
  {
   "cell_type": "code",
   "execution_count": 76,
   "id": "7e98760e",
   "metadata": {},
   "outputs": [],
   "source": [
    "df_ads.to_csv('data/tratados/metaads_data.csv')\n",
    "df_crm.to_csv('data/tratados/crm_sales_data.csv')\n",
    "\n",
    "campanha.to_csv('data/tratados/campanha_geral.csv')"
   ]
  },
  {
   "cell_type": "code",
   "execution_count": 94,
   "id": "d8fbc29d",
   "metadata": {},
   "outputs": [
    {
     "data": {
      "text/html": [
       "<div>\n",
       "<style scoped>\n",
       "    .dataframe tbody tr th:only-of-type {\n",
       "        vertical-align: middle;\n",
       "    }\n",
       "\n",
       "    .dataframe tbody tr th {\n",
       "        vertical-align: top;\n",
       "    }\n",
       "\n",
       "    .dataframe thead th {\n",
       "        text-align: right;\n",
       "    }\n",
       "</style>\n",
       "<table border=\"1\" class=\"dataframe\">\n",
       "  <thead>\n",
       "    <tr style=\"text-align: right;\">\n",
       "      <th></th>\n",
       "      <th>campanha</th>\n",
       "      <th>impressoes</th>\n",
       "      <th>cliques</th>\n",
       "      <th>gasto_total</th>\n",
       "      <th>conversões</th>\n",
       "      <th>dias_campanha</th>\n",
       "      <th>CTR(%)</th>\n",
       "      <th>CPC(R$)</th>\n",
       "      <th>CPA(R$)</th>\n",
       "      <th>impressoes_dia</th>\n",
       "      <th>cliques_dia</th>\n",
       "      <th>gasto_dia</th>\n",
       "    </tr>\n",
       "  </thead>\n",
       "  <tbody>\n",
       "    <tr>\n",
       "      <th>0</th>\n",
       "      <td>Acessorios</td>\n",
       "      <td>1146610</td>\n",
       "      <td>61325</td>\n",
       "      <td>79066.14</td>\n",
       "      <td>32284</td>\n",
       "      <td>103</td>\n",
       "      <td>5.35</td>\n",
       "      <td>1.29</td>\n",
       "      <td>2.45</td>\n",
       "      <td>11132.135922</td>\n",
       "      <td>595.388350</td>\n",
       "      <td>767.632427</td>\n",
       "    </tr>\n",
       "    <tr>\n",
       "      <th>1</th>\n",
       "      <td>Blusas Inverno</td>\n",
       "      <td>1944572</td>\n",
       "      <td>99389</td>\n",
       "      <td>137977.34</td>\n",
       "      <td>48660</td>\n",
       "      <td>188</td>\n",
       "      <td>5.11</td>\n",
       "      <td>1.39</td>\n",
       "      <td>2.84</td>\n",
       "      <td>10343.468085</td>\n",
       "      <td>528.664894</td>\n",
       "      <td>733.922021</td>\n",
       "    </tr>\n",
       "    <tr>\n",
       "      <th>2</th>\n",
       "      <td>Camisetas Filmes</td>\n",
       "      <td>4670706</td>\n",
       "      <td>248605</td>\n",
       "      <td>342610.61</td>\n",
       "      <td>123755</td>\n",
       "      <td>432</td>\n",
       "      <td>5.32</td>\n",
       "      <td>1.38</td>\n",
       "      <td>2.77</td>\n",
       "      <td>10811.819444</td>\n",
       "      <td>575.474537</td>\n",
       "      <td>793.080116</td>\n",
       "    </tr>\n",
       "    <tr>\n",
       "      <th>3</th>\n",
       "      <td>Camisetas Series</td>\n",
       "      <td>2929864</td>\n",
       "      <td>147047</td>\n",
       "      <td>216356.50</td>\n",
       "      <td>76375</td>\n",
       "      <td>277</td>\n",
       "      <td>5.02</td>\n",
       "      <td>1.47</td>\n",
       "      <td>2.83</td>\n",
       "      <td>10577.126354</td>\n",
       "      <td>530.855596</td>\n",
       "      <td>781.070397</td>\n",
       "    </tr>\n",
       "  </tbody>\n",
       "</table>\n",
       "</div>"
      ],
      "text/plain": [
       "           campanha  impressoes  cliques  gasto_total  conversões  \\\n",
       "0        Acessorios     1146610    61325     79066.14       32284   \n",
       "1    Blusas Inverno     1944572    99389    137977.34       48660   \n",
       "2  Camisetas Filmes     4670706   248605    342610.61      123755   \n",
       "3  Camisetas Series     2929864   147047    216356.50       76375   \n",
       "\n",
       "   dias_campanha  CTR(%)  CPC(R$)  CPA(R$)  impressoes_dia  cliques_dia  \\\n",
       "0            103    5.35     1.29     2.45    11132.135922   595.388350   \n",
       "1            188    5.11     1.39     2.84    10343.468085   528.664894   \n",
       "2            432    5.32     1.38     2.77    10811.819444   575.474537   \n",
       "3            277    5.02     1.47     2.83    10577.126354   530.855596   \n",
       "\n",
       "    gasto_dia  \n",
       "0  767.632427  \n",
       "1  733.922021  \n",
       "2  793.080116  \n",
       "3  781.070397  "
      ]
     },
     "execution_count": 94,
     "metadata": {},
     "output_type": "execute_result"
    }
   ],
   "source": [
    "campanha"
   ]
  }
 ],
 "metadata": {
  "kernelspec": {
   "display_name": "3.11.3",
   "language": "python",
   "name": "python3"
  },
  "language_info": {
   "codemirror_mode": {
    "name": "ipython",
    "version": 3
   },
   "file_extension": ".py",
   "mimetype": "text/x-python",
   "name": "python",
   "nbconvert_exporter": "python",
   "pygments_lexer": "ipython3",
   "version": "3.11.3"
  }
 },
 "nbformat": 4,
 "nbformat_minor": 5
}
